{
 "cells": [
  {
   "cell_type": "markdown",
   "id": "5faa3e67-2859-49be-99fa-1ba98abbb2c5",
   "metadata": {},
   "source": [
    " # Group Memebers \n",
    " # 21AI 33 ,30 ,28 ,24 , 19 \n",
    "# Project Title  \"Sentiment Analysis\""
   ]
  },
  {
   "cell_type": "markdown",
   "id": "1ad28121-c240-496d-83e4-94449fb0bd1c",
   "metadata": {},
   "source": [
    "# Data Loading\n"
   ]
  },
  {
   "cell_type": "code",
   "execution_count": 30,
   "id": "c914ee28-85bc-4850-8548-8303e50091b5",
   "metadata": {},
   "outputs": [
    {
     "name": "stdout",
     "output_type": "stream",
     "text": [
      "                                            Sentence Sentiment\n",
      "0  The GeoSolutions technology will leverage Bene...  positive\n",
      "1  $ESI on lows, down $1.50 to $2.50 BK a real po...  negative\n",
      "2  For the last quarter of 2010 , Componenta 's n...  positive\n",
      "3  According to the Finnish-Russian Chamber of Co...   neutral\n",
      "4  The Swedish buyout firm has sold its remaining...   neutral\n"
     ]
    }
   ],
   "source": [
    "\n",
    "import pandas as pd\n",
    "\n",
    "data = pd.read_csv('data.csv ')\n",
    "print(data.head())\n",
    "\n"
   ]
  },
  {
   "cell_type": "markdown",
   "id": "26882f2c-2fc0-45ee-afb2-0296ae9460a4",
   "metadata": {},
   "source": [
    "# Data cleaning\n"
   ]
  },
  {
   "cell_type": "code",
   "execution_count": 5,
   "id": "6d330bf1-3948-47d0-88fd-8df4c38166e9",
   "metadata": {},
   "outputs": [
    {
     "name": "stderr",
     "output_type": "stream",
     "text": [
      "[nltk_data] Downloading package stopwords to C:\\Users\\Lenovo\n",
      "[nltk_data]     X260\\AppData\\Roaming\\nltk_data...\n",
      "[nltk_data]   Package stopwords is already up-to-date!\n"
     ]
    }
   ],
   "source": [
    "import nltk\n",
    "nltk.download('stopwords')\n",
    "\n",
    "import re\n",
    "from nltk.corpus import stopwords\n",
    "\n",
    "def clean_text(text):\n",
    "    text = re.sub(r'http\\S+', '', text)  # Remove URLs\n",
    "    text = re.sub(r'[^A-Za-z0-9 ]+', '', text)  # Remove special characters\n",
    "    text = text.lower()  # Convert to lowercase\n",
    "    stop_words = set(stopwords.words('english'))\n",
    "    text = ' '.join([word for word in text.split() if word not in stop_words])  # Remove stopwords\n",
    "    return text\n",
    "\n",
    "data['cleaned_text'] = data['Sentence'].apply(clean_text)\n"
   ]
  },
  {
   "cell_type": "markdown",
   "id": "646b4a6b-ad18-459c-99d1-c55dfea7e06a",
   "metadata": {},
   "source": [
    "# Data preprocessing"
   ]
  },
  {
   "cell_type": "code",
   "execution_count": 7,
   "id": "568e7f90-6e08-4dd0-9985-5dc47eb6993c",
   "metadata": {},
   "outputs": [
    {
     "name": "stderr",
     "output_type": "stream",
     "text": [
      "[nltk_data] Downloading package punkt to C:\\Users\\Lenovo\n",
      "[nltk_data]     X260\\AppData\\Roaming\\nltk_data...\n",
      "[nltk_data]   Package punkt is already up-to-date!\n",
      "[nltk_data] Downloading package wordnet to C:\\Users\\Lenovo\n",
      "[nltk_data]     X260\\AppData\\Roaming\\nltk_data...\n",
      "[nltk_data]   Package wordnet is already up-to-date!\n"
     ]
    }
   ],
   "source": [
    "import nltk\n",
    "from nltk.tokenize import word_tokenize\n",
    "from nltk.stem import WordNetLemmatizer\n",
    "\n",
    "nltk.download('punkt')\n",
    "nltk.download('wordnet')\n",
    "\n",
    "lemmatizer = WordNetLemmatizer()\n",
    "\n",
    "# Lemmatization function\n",
    "def preprocess_text(text):\n",
    "    tokens = word_tokenize(text)\n",
    "    tokens = [lemmatizer.lemmatize(token) for token in tokens]\n",
    "    return ' '.join(tokens)\n",
    "\n",
    "data['preprocessed_text'] = data['cleaned_text'].apply(preprocess_text)\n"
   ]
  },
  {
   "cell_type": "markdown",
   "id": "94031aa4-9f91-47a9-b33d-563adb146ef8",
   "metadata": {},
   "source": [
    "# Featuere Extraction"
   ]
  },
  {
   "cell_type": "code",
   "execution_count": 8,
   "id": "38e066cd-03a0-401b-8a5e-ec8a0d9b5594",
   "metadata": {},
   "outputs": [],
   "source": [
    "from sklearn.feature_extraction.text import TfidfVectorizer\n",
    "\n",
    "tfidf_vectorizer = TfidfVectorizer(max_features=1000)\n",
    "X = tfidf_vectorizer.fit_transform(data['preprocessed_text'])\n"
   ]
  },
  {
   "cell_type": "markdown",
   "id": "7f572657-fdd5-42e8-8913-eb66ff1c92c8",
   "metadata": {},
   "source": [
    " # Machine Learning Model"
   ]
  },
  {
   "cell_type": "code",
   "execution_count": 40,
   "id": "816211c7-f01e-4fa5-bbde-1335dbc494a1",
   "metadata": {},
   "outputs": [
    {
     "name": "stdout",
     "output_type": "stream",
     "text": [
      "Accuracy: 0.6689478186484175\n"
     ]
    }
   ],
   "source": [
    "from sklearn.model_selection import train_test_split\n",
    "from sklearn.linear_model import LogisticRegression\n",
    "from sklearn.metrics import accuracy_score\n",
    "\n",
    "\n",
    "X_train, X_test, y_train, y_test = train_test_split(X, data['Sentiment'], test_size=0.2)\n",
    "\n",
    "\n",
    "model = LogisticRegression()\n",
    "model.fit(X_train, y_train)\n",
    "\n",
    "\n",
    "y_pred = model.predict(X_test)\n",
    "accuracy = accuracy_score(y_test, y_pred)\n",
    "print(f'Accuracy: {accuracy}')\n"
   ]
  },
  {
   "cell_type": "markdown",
   "id": "88e5846c-30df-4e7c-a641-c114370b59b6",
   "metadata": {},
   "source": [
    " # Deployment"
   ]
  },
  {
   "cell_type": "markdown",
   "id": "199e48f6-324f-459f-bf38-5cf2bafca2ab",
   "metadata": {},
   "source": [
    "# currently deploye on a GUI app uing python tkinter"
   ]
  },
  {
   "cell_type": "code",
   "execution_count": 2,
   "id": "3e13947c-b488-40de-93b7-83d9e78be509",
   "metadata": {},
   "outputs": [
    {
     "name": "stderr",
     "output_type": "stream",
     "text": [
      "[nltk_data] Downloading package stopwords to C:\\Users\\Lenovo\n",
      "[nltk_data]     X260\\AppData\\Roaming\\nltk_data...\n",
      "[nltk_data]   Package stopwords is already up-to-date!\n",
      "[nltk_data] Downloading package punkt to C:\\Users\\Lenovo\n",
      "[nltk_data]     X260\\AppData\\Roaming\\nltk_data...\n",
      "[nltk_data]   Package punkt is already up-to-date!\n",
      "[nltk_data] Downloading package wordnet to C:\\Users\\Lenovo\n",
      "[nltk_data]     X260\\AppData\\Roaming\\nltk_data...\n",
      "[nltk_data]   Package wordnet is already up-to-date!\n"
     ]
    }
   ],
   "source": [
    "import tkinter as tk\n",
    "from tkinter import messagebox\n",
    "import pandas as pd\n",
    "import re\n",
    "import nltk\n",
    "from nltk.corpus import stopwords\n",
    "from nltk.tokenize import word_tokenize\n",
    "from nltk.stem import WordNetLemmatizer\n",
    "from sklearn.feature_extraction.text import TfidfVectorizer\n",
    "from sklearn.linear_model import LogisticRegression\n",
    "from sklearn.pipeline import make_pipeline\n",
    "\n",
    "# Load your dataset (Make sure the path is correct)\n",
    "data = pd.read_csv(r'E:\\prog_work\\data.csv')\n",
    "\n",
    "# Preprocessing functions\n",
    "nltk.download('stopwords')\n",
    "nltk.download('punkt')\n",
    "nltk.download('wordnet')\n",
    "\n",
    "lemmatizer = WordNetLemmatizer()\n",
    "\n",
    "def clean_text(text):\n",
    "    text = re.sub(r'http\\S+', '', text)  # Remove URLs\n",
    "    text = re.sub(r'[^A-Za-z0-9 ]+', '', text)  # Remove special characters\n",
    "    text = text.lower()  # Convert to lowercase\n",
    "    stop_words = set(stopwords.words('english'))\n",
    "    text = ' '.join([word for word in text.split() if word not in stop_words])  # Remove stopwords\n",
    "    return text\n",
    "\n",
    "def preprocess_text(text):\n",
    "    tokens = word_tokenize(text)\n",
    "    tokens = [lemmatizer.lemmatize(token) for token in tokens]\n",
    "    return ' '.join(tokens)\n",
    "\n",
    "# Clean and preprocess the dataset\n",
    "data['cleaned_text'] = data['Sentence'].apply(clean_text)\n",
    "data['preprocessed_text'] = data['cleaned_text'].apply(preprocess_text)\n",
    "\n",
    "# Create a TF-IDF vectorizer and logistic regression model\n",
    "tfidf_vectorizer = TfidfVectorizer(max_features=1000)\n",
    "X = tfidf_vectorizer.fit_transform(data['preprocessed_text'])\n",
    "model = LogisticRegression()\n",
    "model.fit(X, data['Sentiment'])\n",
    "\n",
    "# Create a pipeline for prediction\n",
    "pipeline = make_pipeline(tfidf_vectorizer, model)\n",
    "\n",
    "# Function to predict sentiment\n",
    "def predict_sentiment(text):\n",
    "    cleaned_text = clean_text(text)\n",
    "    preprocessed_text = preprocess_text(cleaned_text)\n",
    "    prediction = pipeline.predict([preprocessed_text])\n",
    "    return prediction[0]\n",
    "\n",
    "# Tkinter App\n",
    "def on_predict():\n",
    "    user_input = text_input.get(\"1.0\", tk.END).strip()\n",
    "    if user_input:\n",
    "        sentiment = predict_sentiment(user_input)\n",
    "        messagebox.showinfo(\"Prediction\", f\"The predicted sentiment is: {sentiment}\")\n",
    "    else:\n",
    "        messagebox.showwarning(\"Input Error\", \"Please enter some text.\")\n",
    "\n",
    "app = tk.Tk()\n",
    "app.title(\"Sentiment Analysis App\")\n",
    "\n",
    "# Text input area\n",
    "text_input = tk.Text(app, height=10, width=50)\n",
    "text_input.pack(pady=10)\n",
    "\n",
    "# Predict button\n",
    "predict_button = tk.Button(app, text=\"Predict Sentiment\", command=on_predict)\n",
    "predict_button.pack(pady=5)\n",
    "\n",
    "# Run the app\n",
    "app.mainloop()\n"
   ]
  },
  {
   "cell_type": "code",
   "execution_count": null,
   "id": "0c7b1d5b-001c-47ce-9976-d67aba579faf",
   "metadata": {},
   "outputs": [],
   "source": []
  }
 ],
 "metadata": {
  "kernelspec": {
   "display_name": "Python 3",
   "language": "python",
   "name": "python3"
  },
  "language_info": {
   "codemirror_mode": {
    "name": "ipython",
    "version": 3
   },
   "file_extension": ".py",
   "mimetype": "text/x-python",
   "name": "python",
   "nbconvert_exporter": "python",
   "pygments_lexer": "ipython3",
   "version": "3.12.6"
  }
 },
 "nbformat": 4,
 "nbformat_minor": 5
}
